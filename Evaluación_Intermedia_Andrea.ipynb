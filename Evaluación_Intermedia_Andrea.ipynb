{
 "cells": [
  {
   "cell_type": "markdown",
   "metadata": {},
   "source": [
    "Ejercicios\n",
    "**Parte 1: Strings**\n"
   ]
  },
  {
   "cell_type": "markdown",
   "metadata": {},
   "source": [
    "1. Dada una cadena de texto, contar cuántas veces aparece una letra específica en ella. Usa un input para que el usuario elija la letra a buscar."
   ]
  },
  {
   "cell_type": "code",
   "execution_count": 7,
   "metadata": {},
   "outputs": [
    {
     "name": "stdout",
     "output_type": "stream",
     "text": [
      "Python es un lenguaje de programación muy popular\n",
      "t\n",
      "1\n"
     ]
    }
   ],
   "source": [
    "cadena = \"Python es un lenguaje de programación muy popular\"\n",
    "print(cadena)\n",
    "letra_cadena = input(\"Dime qué letra quieres buscar en el texto anterior\")\n",
    "print(letra_cadena)\n",
    "print(cadena.count(letra_cadena))"
   ]
  },
  {
   "cell_type": "markdown",
   "metadata": {},
   "source": [
    "2. Escribe un programa que tome la siguiente cadena de texto y reemplace una palabra específica por otra palabra. \n",
    "La palabra a reemplazar y reemplazada deben ser elegidas por el usuario."
   ]
  },
  {
   "cell_type": "code",
   "execution_count": 17,
   "metadata": {},
   "outputs": [
    {
     "name": "stdout",
     "output_type": "stream",
     "text": [
      "la palabra que quieres reemplazar es: Python\n",
      "la palabra nueva es: Nadar\n",
      "La cadena resulta así: Nadar es genial. Nadar es fácil de aprender.\n"
     ]
    }
   ],
   "source": [
    "cadena = \"Python es genial. Python es fácil de aprender.\"\n",
    "palabra_reemplazar = input(\"Dime qué palabra quieres reemplazar.\")\n",
    "print(f\"la palabra que quieres reemplazar es: {palabra_reemplazar}\")\n",
    "palabra_nueva = input(\"Dime por qué palabra la reemplazas\")\n",
    "print(f\"la palabra nueva es: {palabra_nueva}\")\n",
    "print(f\"La cadena resulta así: {cadena.replace(palabra_reemplazar,palabra_nueva)}\")"
   ]
  },
  {
   "cell_type": "markdown",
   "metadata": {},
   "source": [
    "3. Toma la siguiente oración y divídela en una lista de palabras. Luego, únelas nuevamente en una sola cadena de texto."
   ]
  },
  {
   "cell_type": "code",
   "execution_count": 31,
   "metadata": {},
   "outputs": [
    {
     "name": "stdout",
     "output_type": "stream",
     "text": [
      "['Esto', 'es', 'una', 'oración', 'de', 'ejemplo']\n",
      "\n",
      "Esto es una oración de ejemplo\n"
     ]
    }
   ],
   "source": [
    "oracion = \"Esto es una oración de ejemplo\"\n",
    "oracion_dividida = oracion.split()\n",
    "print(oracion_dividida)\n",
    "print()\n",
    "print(\" \".join(oracion_dividida))   \n",
    "\n",
    "#como no dice con qué lo unimos, entendemos que es un espacio, pero podría ser cualquier cosa\n"
   ]
  },
  {
   "cell_type": "markdown",
   "metadata": {},
   "source": [
    "4. Desarrolla un programa que cuente cuántas palabras hay en la siguiente frase."
   ]
  },
  {
   "cell_type": "code",
   "execution_count": 117,
   "metadata": {},
   "outputs": [
    {
     "name": "stdout",
     "output_type": "stream",
     "text": [
      "['Esta', 'es', 'una', 'cadena', 'con', 'cinco', 'palabras']\n",
      "hay 7 palabras en la frase\n"
     ]
    }
   ],
   "source": [
    "cadena = \"Esta es una cadena con cinco palabras\"\n",
    "\n",
    "cadena_lista = cadena.split()\n",
    "print(cadena_lista)\n",
    "N_palabras_lista = len(cadena_lista)\n",
    "print(f\"hay {N_palabras_lista} palabras en la frase\")"
   ]
  },
  {
   "cell_type": "markdown",
   "metadata": {},
   "source": [
    "5. Escribe un programa que invierta una cadena de texto dada por un usuario. Mira el siguiente ejemplo para entender lo que se pide:"
   ]
  },
  {
   "cell_type": "code",
   "execution_count": 67,
   "metadata": {},
   "outputs": [
    {
     "name": "stdout",
     "output_type": "stream",
     "text": [
      "adiós y hola\n"
     ]
    }
   ],
   "source": [
    " # input \n",
    " #   \"Hola buenos dias\"\n",
    "\n",
    " # output\n",
    " #   dias buenos Hola\n",
    "\n",
    "frase_original = input(\"Dime una frase y te la invierto\") \n",
    "frase_invertida = frase_original.split()  #la hacemos lista y guardamos en una variable nueva\n",
    "frase_invertida.reverse()                 #ojo! \"reverse\" cambia sobre la variable original(ha mutado)\n",
    "print(\" \".join(frase_invertida))          # para evitar que sea una lista lo vuelvo a unir"
   ]
  },
  {
   "cell_type": "markdown",
   "metadata": {},
   "source": [
    "6. Crea un programa que busque una palabra específica(elegida por la usuaria) en una cadena de texto e indique su posición."
   ]
  },
  {
   "cell_type": "code",
   "execution_count": 119,
   "metadata": {},
   "outputs": [
    {
     "name": "stdout",
     "output_type": "stream",
     "text": [
      "\n",
      "0\n"
     ]
    }
   ],
   "source": [
    "frase = \"Frases célebres de The Office\"\n",
    "palabra_6 = input(\"Dime una palabra de la frase anterior\")\n",
    "print(palabra_6)\n",
    "x = frase.index(palabra_6) \n",
    "print(x)            #posisión del caracter donde empieza la palabra\n",
    "\n",
    "#si lo ponemos con .lower o .upper"
   ]
  },
  {
   "cell_type": "markdown",
   "metadata": {},
   "source": [
    "**Parte 2: Listas**"
   ]
  },
  {
   "cell_type": "markdown",
   "metadata": {},
   "source": [
    "1. Dada la siguiente lista: \n",
    "frutas = ['manzana', 'pera', 'banana', 'uva', 'kiwi'], realiza lo siguiente:\n",
    "\n",
    "\n",
    "    a) Reemplaza el segundo elemento con 'durazno'.\n",
    "\n",
    "\n",
    "    b) Agrega 'naranja' al final de la lista.\n",
    "\n",
    "\n",
    "    c) Extrae y muestra por pantalla el tercer elemento de la lista."
   ]
  },
  {
   "cell_type": "code",
   "execution_count": 93,
   "metadata": {},
   "outputs": [
    {
     "name": "stdout",
     "output_type": "stream",
     "text": [
      "a)['manzana', 'durazno', 'banana', 'uva', 'kiwi']\n",
      "b)['manzana', 'durazno', 'banana', 'uva', 'kiwi', 'naranja']\n",
      "c)banana\n"
     ]
    }
   ],
   "source": [
    "frutas = ['manzana', 'pera', 'banana', 'uva', 'kiwi']\n",
    "frutas[1] = \"durazno\"\n",
    "print(f\"a){frutas}\")\n",
    "\n",
    "frutas.extend([\"naranja\"])\n",
    "print(f\"b){frutas}\")\n",
    "\n",
    "print(f\"c){frutas[2]}\")\n",
    "\n"
   ]
  },
  {
   "cell_type": "markdown",
   "metadata": {},
   "source": [
    "2. Crea una lista llamada numeros que contenga los siguientes valores: 10, 25, 15, 30, 20."
   ]
  },
  {
   "cell_type": "code",
   "execution_count": 112,
   "metadata": {},
   "outputs": [],
   "source": [
    "numeros = [10, 25, 15, 30, 20]"
   ]
  },
  {
   "cell_type": "markdown",
   "metadata": {},
   "source": [
    "3. Agrega el valor 35 al incio de la lista numeros."
   ]
  },
  {
   "cell_type": "code",
   "execution_count": 113,
   "metadata": {},
   "outputs": [
    {
     "name": "stdout",
     "output_type": "stream",
     "text": [
      "[35, 10, 25, 15, 30, 20]\n"
     ]
    }
   ],
   "source": [
    "numeros.insert(0, 35)\n",
    "print(numeros)"
   ]
  },
  {
   "cell_type": "markdown",
   "metadata": {},
   "source": [
    "4. Ordena la lista numeros en orden ascendente."
   ]
  },
  {
   "cell_type": "code",
   "execution_count": 116,
   "metadata": {},
   "outputs": [
    {
     "name": "stdout",
     "output_type": "stream",
     "text": [
      "[10, 15, 20, 25, 30, 35]\n"
     ]
    }
   ],
   "source": [
    "numeros_ordenados = sorted(numeros)\n",
    "print(numeros_ordenados)"
   ]
  },
  {
   "cell_type": "markdown",
   "metadata": {},
   "source": [
    "5. Dada la siguiente lista numeros2 = [45, 22, 19, 38, 29]. \n",
    "\n",
    "Crea una nueva lista llamada numeros3 donde tengamos la unión de los todos los elementos de las dos listas (numeros y numeros2) de tal forma que el resultado final sea:\n",
    "\n",
    "\n",
    "numeros3 = [10, 25, 15, 30, 20, 45, 22, 19, 38, 29]"
   ]
  },
  {
   "cell_type": "code",
   "execution_count": null,
   "metadata": {},
   "outputs": [],
   "source": []
  },
  {
   "cell_type": "code",
   "execution_count": null,
   "metadata": {},
   "outputs": [],
   "source": []
  },
  {
   "cell_type": "markdown",
   "metadata": {},
   "source": [
    "6. Elimina el último elemento de la lista numeros3."
   ]
  },
  {
   "cell_type": "code",
   "execution_count": null,
   "metadata": {},
   "outputs": [],
   "source": [
    "numeros3 = "
   ]
  },
  {
   "cell_type": "markdown",
   "metadata": {},
   "source": [
    "7. Elimina el número 30 de la lista numeros3."
   ]
  },
  {
   "cell_type": "code",
   "execution_count": 2,
   "metadata": {},
   "outputs": [
    {
     "name": "stdout",
     "output_type": "stream",
     "text": [
      "casa\n"
     ]
    }
   ],
   "source": [
    "casa = \"casa\"\n",
    "print(caca.lower())"
   ]
  },
  {
   "cell_type": "markdown",
   "metadata": {},
   "source": [
    "**Parte 3: Tuplas**"
   ]
  },
  {
   "cell_type": "markdown",
   "metadata": {},
   "source": [
    "**Parte 3: Tuplas**\n"
   ]
  }
 ],
 "metadata": {
  "kernelspec": {
   "display_name": "base",
   "language": "python",
   "name": "python3"
  },
  "language_info": {
   "codemirror_mode": {
    "name": "ipython",
    "version": 3
   },
   "file_extension": ".py",
   "mimetype": "text/x-python",
   "name": "python",
   "nbconvert_exporter": "python",
   "pygments_lexer": "ipython3",
   "version": "3.9.7"
  }
 },
 "nbformat": 4,
 "nbformat_minor": 2
}
